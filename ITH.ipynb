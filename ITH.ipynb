{
 "cells": [
  {
   "cell_type": "code",
   "execution_count": 5,
   "metadata": {},
   "outputs": [],
   "source": [
    "from pymongo import MongoClient\n",
    "import pandas as pd\n"
   ]
  },
  {
   "cell_type": "code",
   "execution_count": 6,
   "metadata": {},
   "outputs": [
    {
     "name": "stdout",
     "output_type": "stream",
     "text": [
      "Connection Successful\n"
     ]
    }
   ],
   "source": [
    "client = MongoClient('mongodb://localhost:27017');\n",
    "print(\"Connection Successful\")"
   ]
  },
  {
   "cell_type": "code",
   "execution_count": 7,
   "metadata": {},
   "outputs": [],
   "source": [
    "db= client['test']\n",
    "settl=db['settlementithcounts']"
   ]
  },
  {
   "cell_type": "code",
   "execution_count": 8,
   "metadata": {},
   "outputs": [],
   "source": [
    "settl= pd.read_csv('CSV_limpios/settlementithcounts.csv')"
   ]
  },
  {
   "cell_type": "code",
   "execution_count": 9,
   "metadata": {},
   "outputs": [],
   "source": [
    "temp = settl['ITH']\n",
    "rango_max = temp.max()\n",
    "rango_min = temp.min()\n"
   ]
  },
  {
   "cell_type": "code",
   "execution_count": 11,
   "metadata": {},
   "outputs": [
    {
     "data": {
      "text/plain": [
       "0.0"
      ]
     },
     "execution_count": 11,
     "metadata": {},
     "output_type": "execute_result"
    }
   ],
   "source": [
    "rango_min"
   ]
  },
  {
   "cell_type": "code",
   "execution_count": 21,
   "metadata": {},
   "outputs": [
    {
     "data": {
      "text/plain": [
       "<pandas.plotting._core.PlotAccessor object at 0x7ff1984c0070>"
      ]
     },
     "execution_count": 21,
     "metadata": {},
     "output_type": "execute_result"
    }
   ],
   "source": [
    "temp.plot"
   ]
  },
  {
   "cell_type": "code",
   "execution_count": 16,
   "metadata": {},
   "outputs": [
    {
     "data": {
      "text/plain": [
       "0        85.0\n",
       "1        40.0\n",
       "2        85.0\n",
       "3         0.0\n",
       "4        51.0\n",
       "         ... \n",
       "17775    71.0\n",
       "17776    69.0\n",
       "17777    70.0\n",
       "17778    68.0\n",
       "17779    72.0\n",
       "Name: ITH, Length: 17780, dtype: float64"
      ]
     },
     "execution_count": 16,
     "metadata": {},
     "output_type": "execute_result"
    }
   ],
   "source": [
    "temp"
   ]
  },
  {
   "cell_type": "code",
   "execution_count": 23,
   "metadata": {},
   "outputs": [],
   "source": [
    "temp_ = settl['ITH'].value_counts()\n",
    "#temp_.sort_values(by= 'ITH', ascending= True)"
   ]
  },
  {
   "cell_type": "code",
   "execution_count": 27,
   "metadata": {},
   "outputs": [
    {
     "data": {
      "text/plain": [
       "87.0"
      ]
     },
     "execution_count": 27,
     "metadata": {},
     "output_type": "execute_result"
    }
   ],
   "source": [
    "rango_max"
   ]
  },
  {
   "cell_type": "code",
   "execution_count": 29,
   "metadata": {},
   "outputs": [
    {
     "data": {
      "text/plain": [
       "0.0"
      ]
     },
     "execution_count": 29,
     "metadata": {},
     "output_type": "execute_result"
    }
   ],
   "source": [
    "rango_min"
   ]
  },
  {
   "cell_type": "code",
   "execution_count": 3,
   "metadata": {},
   "outputs": [],
   "source": [
    "df_animals= pd.read_csv('CSV_limpios/animals.csv')"
   ]
  },
  {
   "cell_type": "code",
   "execution_count": 4,
   "metadata": {},
   "outputs": [
    {
     "data": {
      "text/html": [
       "<div>\n",
       "<style scoped>\n",
       "    .dataframe tbody tr th:only-of-type {\n",
       "        vertical-align: middle;\n",
       "    }\n",
       "\n",
       "    .dataframe tbody tr th {\n",
       "        vertical-align: top;\n",
       "    }\n",
       "\n",
       "    .dataframe thead th {\n",
       "        text-align: right;\n",
       "    }\n",
       "</style>\n",
       "<table border=\"1\" class=\"dataframe\">\n",
       "  <thead>\n",
       "    <tr style=\"text-align: right;\">\n",
       "      <th></th>\n",
       "      <th>Unnamed: 0</th>\n",
       "      <th>_id</th>\n",
       "      <th>animalSettlement</th>\n",
       "      <th>caravanaNumber</th>\n",
       "      <th>animalType</th>\n",
       "      <th>weight</th>\n",
       "      <th>birthDay</th>\n",
       "      <th>breed</th>\n",
       "      <th>isPregmant</th>\n",
       "      <th>dateOfBirth</th>\n",
       "      <th>observations</th>\n",
       "      <th>createdAt</th>\n",
       "      <th>updatedAt</th>\n",
       "      <th>__v</th>\n",
       "      <th>animalTags</th>\n",
       "      <th>animalSenasa</th>\n",
       "    </tr>\n",
       "  </thead>\n",
       "  <tbody>\n",
       "    <tr>\n",
       "      <th>0</th>\n",
       "      <td>0</td>\n",
       "      <td>62d6e9920408c608acb6fdd0</td>\n",
       "      <td>[ObjectId('620e6e5e60543d0026a01f0e')]</td>\n",
       "      <td>CAR9</td>\n",
       "      <td>VACA</td>\n",
       "      <td>500.0</td>\n",
       "      <td>2022-07-18 00:00:00.000</td>\n",
       "      <td>SIMBRAH</td>\n",
       "      <td>False</td>\n",
       "      <td>NaN</td>\n",
       "      <td>NaN</td>\n",
       "      <td>2022-07-19 17:27:46.820</td>\n",
       "      <td>2023-02-10 18:40:12.193</td>\n",
       "      <td>0</td>\n",
       "      <td>['VIEJA']</td>\n",
       "      <td>NaN</td>\n",
       "    </tr>\n",
       "    <tr>\n",
       "      <th>1</th>\n",
       "      <td>1</td>\n",
       "      <td>62d6e9d30408c608acb6fe08</td>\n",
       "      <td>[ObjectId('620e6e5e60543d0026a01f0e')]</td>\n",
       "      <td>CAR71</td>\n",
       "      <td>NOVILLO</td>\n",
       "      <td>234.0</td>\n",
       "      <td>2022-07-18 00:00:00.000</td>\n",
       "      <td>SIMBRAH</td>\n",
       "      <td>False</td>\n",
       "      <td>NaN</td>\n",
       "      <td>NaN</td>\n",
       "      <td>2022-07-19 17:28:51.345</td>\n",
       "      <td>2022-11-25 02:11:05.689</td>\n",
       "      <td>0</td>\n",
       "      <td>['PARICION']</td>\n",
       "      <td>NaN</td>\n",
       "    </tr>\n",
       "    <tr>\n",
       "      <th>2</th>\n",
       "      <td>2</td>\n",
       "      <td>62d98db9a30a66002645c287</td>\n",
       "      <td>[ObjectId('620e6e5e60543d0026a01f0e')]</td>\n",
       "      <td>CAR52</td>\n",
       "      <td>VACA</td>\n",
       "      <td>155.0</td>\n",
       "      <td>2022-07-18 00:00:00.000</td>\n",
       "      <td>BRANGUS</td>\n",
       "      <td>False</td>\n",
       "      <td>NaN</td>\n",
       "      <td>NaN</td>\n",
       "      <td>2022-07-21 17:32:41.363</td>\n",
       "      <td>2022-07-21 17:32:41.363</td>\n",
       "      <td>0</td>\n",
       "      <td>NaN</td>\n",
       "      <td>NaN</td>\n",
       "    </tr>\n",
       "    <tr>\n",
       "      <th>3</th>\n",
       "      <td>3</td>\n",
       "      <td>62d99045a30a66002645c384</td>\n",
       "      <td>[ObjectId('620e6e5e60543d0026a01f0e')]</td>\n",
       "      <td>CAR169</td>\n",
       "      <td>TERNERO</td>\n",
       "      <td>73.0</td>\n",
       "      <td>2022-07-18 00:00:00.000</td>\n",
       "      <td>INDUSIN</td>\n",
       "      <td>False</td>\n",
       "      <td>NaN</td>\n",
       "      <td>NaN</td>\n",
       "      <td>2022-07-21 17:43:33.443</td>\n",
       "      <td>2022-07-21 17:43:33.443</td>\n",
       "      <td>0</td>\n",
       "      <td>NaN</td>\n",
       "      <td>NaN</td>\n",
       "    </tr>\n",
       "    <tr>\n",
       "      <th>4</th>\n",
       "      <td>4</td>\n",
       "      <td>62d9a88c0223ce002612afed</td>\n",
       "      <td>[ObjectId('620e6e5e60543d0026a01f0e')]</td>\n",
       "      <td>CAR19</td>\n",
       "      <td>TERNERO</td>\n",
       "      <td>45.0</td>\n",
       "      <td>2022-03-25 00:00:00.000</td>\n",
       "      <td>BRAFORD</td>\n",
       "      <td>False</td>\n",
       "      <td>NaN</td>\n",
       "      <td>NaN</td>\n",
       "      <td>2022-07-21 19:27:08.791</td>\n",
       "      <td>2022-12-06 14:08:45.687</td>\n",
       "      <td>0</td>\n",
       "      <td>[]</td>\n",
       "      <td>NaN</td>\n",
       "    </tr>\n",
       "    <tr>\n",
       "      <th>...</th>\n",
       "      <td>...</td>\n",
       "      <td>...</td>\n",
       "      <td>...</td>\n",
       "      <td>...</td>\n",
       "      <td>...</td>\n",
       "      <td>...</td>\n",
       "      <td>...</td>\n",
       "      <td>...</td>\n",
       "      <td>...</td>\n",
       "      <td>...</td>\n",
       "      <td>...</td>\n",
       "      <td>...</td>\n",
       "      <td>...</td>\n",
       "      <td>...</td>\n",
       "      <td>...</td>\n",
       "      <td>...</td>\n",
       "    </tr>\n",
       "    <tr>\n",
       "      <th>625</th>\n",
       "      <td>625</td>\n",
       "      <td>642367fd0dac550030136043</td>\n",
       "      <td>[ObjectId('63ecf27ba9f1a40025792acf')]</td>\n",
       "      <td>TBOZAVI9</td>\n",
       "      <td>VACA</td>\n",
       "      <td>100.0</td>\n",
       "      <td>2022-06-18 00:00:00.000</td>\n",
       "      <td>HEREFORD</td>\n",
       "      <td>False</td>\n",
       "      <td>NaN</td>\n",
       "      <td>NaN</td>\n",
       "      <td>2023-03-28 22:19:41.682</td>\n",
       "      <td>2023-03-28 22:19:41.682</td>\n",
       "      <td>0</td>\n",
       "      <td>[]</td>\n",
       "      <td>TESTBOZAVI9</td>\n",
       "    </tr>\n",
       "    <tr>\n",
       "      <th>626</th>\n",
       "      <td>626</td>\n",
       "      <td>642367fd0dac550030136047</td>\n",
       "      <td>[ObjectId('63ecf27ba9f1a40025792acf')]</td>\n",
       "      <td>TBOZAVI11</td>\n",
       "      <td>VACA</td>\n",
       "      <td>100.0</td>\n",
       "      <td>2022-06-18 00:00:00.000</td>\n",
       "      <td>HEREFORD</td>\n",
       "      <td>False</td>\n",
       "      <td>NaN</td>\n",
       "      <td>NaN</td>\n",
       "      <td>2023-03-28 22:19:41.690</td>\n",
       "      <td>2023-03-28 22:19:41.690</td>\n",
       "      <td>0</td>\n",
       "      <td>[]</td>\n",
       "      <td>TESTBOZAVI11</td>\n",
       "    </tr>\n",
       "    <tr>\n",
       "      <th>627</th>\n",
       "      <td>627</td>\n",
       "      <td>642367fd0dac550030136045</td>\n",
       "      <td>[ObjectId('63ecf27ba9f1a40025792acf')]</td>\n",
       "      <td>TBOZAVI10</td>\n",
       "      <td>VACA</td>\n",
       "      <td>100.0</td>\n",
       "      <td>2022-06-18 00:00:00.000</td>\n",
       "      <td>HEREFORD</td>\n",
       "      <td>False</td>\n",
       "      <td>NaN</td>\n",
       "      <td>NaN</td>\n",
       "      <td>2023-03-28 22:19:41.687</td>\n",
       "      <td>2023-03-28 22:19:41.687</td>\n",
       "      <td>0</td>\n",
       "      <td>[]</td>\n",
       "      <td>TESTBOZAVI10</td>\n",
       "    </tr>\n",
       "    <tr>\n",
       "      <th>628</th>\n",
       "      <td>628</td>\n",
       "      <td>6424319990adbe6da4fb1c8a</td>\n",
       "      <td>[ObjectId('63efd78d65980f4378711b6f')]</td>\n",
       "      <td>PRUEBA FAS</td>\n",
       "      <td>NOVILLO</td>\n",
       "      <td>100.0</td>\n",
       "      <td>2000-01-01 00:00:00.000</td>\n",
       "      <td>SANTA GERTRUDIS</td>\n",
       "      <td>False</td>\n",
       "      <td>NaN</td>\n",
       "      <td>NaN</td>\n",
       "      <td>2023-03-29 12:39:53.144</td>\n",
       "      <td>2023-03-29 13:24:50.276</td>\n",
       "      <td>0</td>\n",
       "      <td>['ENFERMA']</td>\n",
       "      <td>NaN</td>\n",
       "    </tr>\n",
       "    <tr>\n",
       "      <th>629</th>\n",
       "      <td>629</td>\n",
       "      <td>642aeed40dac550030174fac</td>\n",
       "      <td>[ObjectId('63e6454922ee080030ba8728')]</td>\n",
       "      <td>PRUEBA SEN</td>\n",
       "      <td>NOVILLO</td>\n",
       "      <td>100.0</td>\n",
       "      <td>2023-04-03 00:00:00.000</td>\n",
       "      <td>SIMBRAH</td>\n",
       "      <td>False</td>\n",
       "      <td>NaN</td>\n",
       "      <td>NaN</td>\n",
       "      <td>2023-04-03 15:20:52.896</td>\n",
       "      <td>2023-04-03 15:20:52.896</td>\n",
       "      <td>0</td>\n",
       "      <td>[]</td>\n",
       "      <td>NaN</td>\n",
       "    </tr>\n",
       "  </tbody>\n",
       "</table>\n",
       "<p>630 rows × 16 columns</p>\n",
       "</div>"
      ],
      "text/plain": [
       "     Unnamed: 0                       _id  \\\n",
       "0             0  62d6e9920408c608acb6fdd0   \n",
       "1             1  62d6e9d30408c608acb6fe08   \n",
       "2             2  62d98db9a30a66002645c287   \n",
       "3             3  62d99045a30a66002645c384   \n",
       "4             4  62d9a88c0223ce002612afed   \n",
       "..          ...                       ...   \n",
       "625         625  642367fd0dac550030136043   \n",
       "626         626  642367fd0dac550030136047   \n",
       "627         627  642367fd0dac550030136045   \n",
       "628         628  6424319990adbe6da4fb1c8a   \n",
       "629         629  642aeed40dac550030174fac   \n",
       "\n",
       "                           animalSettlement caravanaNumber animalType  weight  \\\n",
       "0    [ObjectId('620e6e5e60543d0026a01f0e')]           CAR9       VACA   500.0   \n",
       "1    [ObjectId('620e6e5e60543d0026a01f0e')]          CAR71    NOVILLO   234.0   \n",
       "2    [ObjectId('620e6e5e60543d0026a01f0e')]          CAR52       VACA   155.0   \n",
       "3    [ObjectId('620e6e5e60543d0026a01f0e')]         CAR169    TERNERO    73.0   \n",
       "4    [ObjectId('620e6e5e60543d0026a01f0e')]          CAR19    TERNERO    45.0   \n",
       "..                                      ...            ...        ...     ...   \n",
       "625  [ObjectId('63ecf27ba9f1a40025792acf')]       TBOZAVI9       VACA   100.0   \n",
       "626  [ObjectId('63ecf27ba9f1a40025792acf')]      TBOZAVI11       VACA   100.0   \n",
       "627  [ObjectId('63ecf27ba9f1a40025792acf')]      TBOZAVI10       VACA   100.0   \n",
       "628  [ObjectId('63efd78d65980f4378711b6f')]     PRUEBA FAS    NOVILLO   100.0   \n",
       "629  [ObjectId('63e6454922ee080030ba8728')]     PRUEBA SEN    NOVILLO   100.0   \n",
       "\n",
       "                    birthDay            breed isPregmant dateOfBirth  \\\n",
       "0    2022-07-18 00:00:00.000          SIMBRAH      False         NaN   \n",
       "1    2022-07-18 00:00:00.000          SIMBRAH      False         NaN   \n",
       "2    2022-07-18 00:00:00.000          BRANGUS      False         NaN   \n",
       "3    2022-07-18 00:00:00.000          INDUSIN      False         NaN   \n",
       "4    2022-03-25 00:00:00.000          BRAFORD      False         NaN   \n",
       "..                       ...              ...        ...         ...   \n",
       "625  2022-06-18 00:00:00.000         HEREFORD      False         NaN   \n",
       "626  2022-06-18 00:00:00.000         HEREFORD      False         NaN   \n",
       "627  2022-06-18 00:00:00.000         HEREFORD      False         NaN   \n",
       "628  2000-01-01 00:00:00.000  SANTA GERTRUDIS      False         NaN   \n",
       "629  2023-04-03 00:00:00.000          SIMBRAH      False         NaN   \n",
       "\n",
       "    observations                createdAt                updatedAt  __v  \\\n",
       "0            NaN  2022-07-19 17:27:46.820  2023-02-10 18:40:12.193    0   \n",
       "1            NaN  2022-07-19 17:28:51.345  2022-11-25 02:11:05.689    0   \n",
       "2            NaN  2022-07-21 17:32:41.363  2022-07-21 17:32:41.363    0   \n",
       "3            NaN  2022-07-21 17:43:33.443  2022-07-21 17:43:33.443    0   \n",
       "4            NaN  2022-07-21 19:27:08.791  2022-12-06 14:08:45.687    0   \n",
       "..           ...                      ...                      ...  ...   \n",
       "625          NaN  2023-03-28 22:19:41.682  2023-03-28 22:19:41.682    0   \n",
       "626          NaN  2023-03-28 22:19:41.690  2023-03-28 22:19:41.690    0   \n",
       "627          NaN  2023-03-28 22:19:41.687  2023-03-28 22:19:41.687    0   \n",
       "628          NaN  2023-03-29 12:39:53.144  2023-03-29 13:24:50.276    0   \n",
       "629          NaN  2023-04-03 15:20:52.896  2023-04-03 15:20:52.896    0   \n",
       "\n",
       "       animalTags  animalSenasa  \n",
       "0       ['VIEJA']           NaN  \n",
       "1    ['PARICION']           NaN  \n",
       "2             NaN           NaN  \n",
       "3             NaN           NaN  \n",
       "4              []           NaN  \n",
       "..            ...           ...  \n",
       "625            []   TESTBOZAVI9  \n",
       "626            []  TESTBOZAVI11  \n",
       "627            []  TESTBOZAVI10  \n",
       "628   ['ENFERMA']           NaN  \n",
       "629            []           NaN  \n",
       "\n",
       "[630 rows x 16 columns]"
      ]
     },
     "execution_count": 4,
     "metadata": {},
     "output_type": "execute_result"
    }
   ],
   "source": [
    "df_animals"
   ]
  }
 ],
 "metadata": {
  "kernelspec": {
   "display_name": "base",
   "language": "python",
   "name": "python3"
  },
  "language_info": {
   "codemirror_mode": {
    "name": "ipython",
    "version": 3
   },
   "file_extension": ".py",
   "mimetype": "text/x-python",
   "name": "python",
   "nbconvert_exporter": "python",
   "pygments_lexer": "ipython3",
   "version": "3.9.13"
  },
  "orig_nbformat": 4
 },
 "nbformat": 4,
 "nbformat_minor": 2
}
