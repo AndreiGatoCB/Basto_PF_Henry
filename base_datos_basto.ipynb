{
 "cells": [
  {
   "cell_type": "code",
   "execution_count": 1,
   "metadata": {},
   "outputs": [],
   "source": [
    "import pymongo\n",
    "import pandas as pd\n",
    "\n",
    "data_mongo= pymongo.MongoClient('localhost:27017')"
   ]
  },
  {
   "cell_type": "code",
   "execution_count": 2,
   "metadata": {},
   "outputs": [],
   "source": [
    "db= data_mongo['test']\n",
    "rows=db['datarows']"
   ]
  },
  {
   "cell_type": "code",
   "execution_count": 3,
   "metadata": {},
   "outputs": [],
   "source": [
    "drow1= pd.json_normalize(list(rows.find()[:150000]),sep='_')\n",
    "drow2= pd.json_normalize(list(rows.find()[150000:300000]),sep='_')\n",
    "drow3= pd.json_normalize(list(rows.find()[300000:450000]),sep='_')\n",
    "drow4= pd.json_normalize(list(rows.find()[450000:600000]),sep='_')\n",
    "drow5= pd.json_normalize(list(rows.find()[600000:750000]),sep='_')\n",
    "drow6= pd.json_normalize(list(rows.find()[750000:900000]),sep='_')\n",
    "drow7= pd.json_normalize(list(rows.find()[900000:1050000]),sep='_')\n",
    "drow8= pd.json_normalize(list(rows.find()[1050000:1200000]),sep='_')\n",
    "drow9= pd.json_normalize(list(rows.find()[1200000:]),sep='_')"
   ]
  },
  {
   "cell_type": "code",
   "execution_count": 4,
   "metadata": {},
   "outputs": [
    {
     "data": {
      "text/plain": [
       "(1296780, 22)"
      ]
     },
     "execution_count": 4,
     "metadata": {},
     "output_type": "execute_result"
    }
   ],
   "source": [
    "df_row=pd.concat([drow1,drow2,drow3,drow4,drow5,drow6,drow7,drow8,drow9],axis=0)\n",
    "df_row.shape"
   ]
  },
  {
   "cell_type": "code",
   "execution_count": 5,
   "metadata": {},
   "outputs": [],
   "source": [
    "df_row._id=df_row._id.astype(str)"
   ]
  },
  {
   "cell_type": "code",
   "execution_count": 6,
   "metadata": {},
   "outputs": [
    {
     "data": {
      "text/plain": [
       "array(['BEACON', 'GPS', 'BATTERY', nan], dtype=object)"
      ]
     },
     "execution_count": 6,
     "metadata": {},
     "output_type": "execute_result"
    }
   ],
   "source": [
    "df_row.dataRowType.unique()"
   ]
  },
  {
   "cell_type": "code",
   "execution_count": 6,
   "metadata": {},
   "outputs": [],
   "source": [
    "data_gps=df_row[df_row.dataRowType=='GPS']\n",
    "data_beacon= df_row[df_row.dataRowType=='BEACON']\n",
    "data_battery= df_row[df_row.dataRowType=='BATTERY']"
   ]
  },
  {
   "cell_type": "code",
   "execution_count": 7,
   "metadata": {},
   "outputs": [],
   "source": [
    "df_gps=data_gps[['UUID','updatedAt','dataRowData_lat','dataRowData_lng','dataRowData_gpsAlt','dataRowData_gpsVel','dataRowData_gpsFixed']]"
   ]
  },
  {
   "cell_type": "code",
   "execution_count": 8,
   "metadata": {},
   "outputs": [],
   "source": [
    "df_bate=data_battery[['UUID','updatedAt','dataRowData_timestamp','dataRowData_battery']]"
   ]
  },
  {
   "cell_type": "code",
   "execution_count": 9,
   "metadata": {},
   "outputs": [],
   "source": [
    "df_beacon=data_beacon[['UUID','updatedAt','dataRowData_timestamp','dataRowData_mac','dataRowData_battery','dataRowData_temperature','dataRowData_rssi','dataRowData_accelerometer']]"
   ]
  },
  {
   "cell_type": "code",
   "execution_count": 10,
   "metadata": {},
   "outputs": [
    {
     "name": "stdout",
     "output_type": "stream",
     "text": [
      "<class 'pandas.core.frame.DataFrame'>\n",
      "Int64Index: 100500 entries, 6 to 96776\n",
      "Data columns (total 4 columns):\n",
      " #   Column                 Non-Null Count   Dtype         \n",
      "---  ------                 --------------   -----         \n",
      " 0   UUID                   100500 non-null  object        \n",
      " 1   updatedAt              100500 non-null  datetime64[ns]\n",
      " 2   dataRowData_timestamp  100500 non-null  object        \n",
      " 3   dataRowData_battery    98833 non-null   float64       \n",
      "dtypes: datetime64[ns](1), float64(1), object(2)\n",
      "memory usage: 3.8+ MB\n"
     ]
    }
   ],
   "source": [
    "df_bate.info()"
   ]
  },
  {
   "cell_type": "code",
   "execution_count": 11,
   "metadata": {},
   "outputs": [
    {
     "name": "stdout",
     "output_type": "stream",
     "text": [
      "<class 'pandas.core.frame.DataFrame'>\n",
      "Int64Index: 321019 entries, 1 to 96773\n",
      "Data columns (total 7 columns):\n",
      " #   Column                Non-Null Count   Dtype         \n",
      "---  ------                --------------   -----         \n",
      " 0   UUID                  321019 non-null  object        \n",
      " 1   updatedAt             321019 non-null  datetime64[ns]\n",
      " 2   dataRowData_lat       319620 non-null  float64       \n",
      " 3   dataRowData_lng       319622 non-null  float64       \n",
      " 4   dataRowData_gpsAlt    320871 non-null  float64       \n",
      " 5   dataRowData_gpsVel    320871 non-null  float64       \n",
      " 6   dataRowData_gpsFixed  320871 non-null  float64       \n",
      "dtypes: datetime64[ns](1), float64(5), object(1)\n",
      "memory usage: 19.6+ MB\n"
     ]
    }
   ],
   "source": [
    "df_gps.info()"
   ]
  },
  {
   "cell_type": "code",
   "execution_count": 12,
   "metadata": {},
   "outputs": [
    {
     "name": "stdout",
     "output_type": "stream",
     "text": [
      "<class 'pandas.core.frame.DataFrame'>\n",
      "Int64Index: 875260 entries, 0 to 96779\n",
      "Data columns (total 8 columns):\n",
      " #   Column                     Non-Null Count   Dtype         \n",
      "---  ------                     --------------   -----         \n",
      " 0   UUID                       875260 non-null  object        \n",
      " 1   updatedAt                  875260 non-null  datetime64[ns]\n",
      " 2   dataRowData_timestamp      875260 non-null  object        \n",
      " 3   dataRowData_mac            875260 non-null  object        \n",
      " 4   dataRowData_battery        875260 non-null  float64       \n",
      " 5   dataRowData_temperature    875260 non-null  float64       \n",
      " 6   dataRowData_rssi           875260 non-null  float64       \n",
      " 7   dataRowData_accelerometer  230272 non-null  object        \n",
      "dtypes: datetime64[ns](1), float64(3), object(4)\n",
      "memory usage: 60.1+ MB\n"
     ]
    }
   ],
   "source": [
    "df_beacon.info()"
   ]
  },
  {
   "cell_type": "code",
   "execution_count": 20,
   "metadata": {},
   "outputs": [
    {
     "data": {
      "text/html": [
       "<div>\n",
       "<style scoped>\n",
       "    .dataframe tbody tr th:only-of-type {\n",
       "        vertical-align: middle;\n",
       "    }\n",
       "\n",
       "    .dataframe tbody tr th {\n",
       "        vertical-align: top;\n",
       "    }\n",
       "\n",
       "    .dataframe thead th {\n",
       "        text-align: right;\n",
       "    }\n",
       "</style>\n",
       "<table border=\"1\" class=\"dataframe\">\n",
       "  <thead>\n",
       "    <tr style=\"text-align: right;\">\n",
       "      <th></th>\n",
       "      <th>UUID</th>\n",
       "      <th>updatedAt</th>\n",
       "      <th>dataRowData_lat</th>\n",
       "      <th>dataRowData_lng</th>\n",
       "      <th>dataRowData_gpsAlt</th>\n",
       "      <th>dataRowData_gpsVel</th>\n",
       "      <th>dataRowData_gpsFixed</th>\n",
       "    </tr>\n",
       "  </thead>\n",
       "  <tbody>\n",
       "    <tr>\n",
       "      <th>22667</th>\n",
       "      <td>0004A30B00F842B6</td>\n",
       "      <td>2023-03-10 21:39:56.083</td>\n",
       "      <td>-32.849794</td>\n",
       "      <td>-63.580536</td>\n",
       "      <td>0.0</td>\n",
       "      <td>0.055</td>\n",
       "      <td>1.0</td>\n",
       "    </tr>\n",
       "    <tr>\n",
       "      <th>22950</th>\n",
       "      <td>0004A30B00F842B6</td>\n",
       "      <td>2023-03-10 21:54:03.019</td>\n",
       "      <td>-32.849809</td>\n",
       "      <td>-63.580539</td>\n",
       "      <td>225.6</td>\n",
       "      <td>0.003</td>\n",
       "      <td>1.0</td>\n",
       "    </tr>\n",
       "    <tr>\n",
       "      <th>23195</th>\n",
       "      <td>0004A30B00F842B6</td>\n",
       "      <td>2023-03-10 22:06:59.113</td>\n",
       "      <td>-32.849797</td>\n",
       "      <td>-63.580911</td>\n",
       "      <td>224.8</td>\n",
       "      <td>0.201</td>\n",
       "      <td>1.0</td>\n",
       "    </tr>\n",
       "    <tr>\n",
       "      <th>23403</th>\n",
       "      <td>0004A30B00F842B6</td>\n",
       "      <td>2023-03-10 22:21:14.271</td>\n",
       "      <td>-32.849797</td>\n",
       "      <td>-63.580911</td>\n",
       "      <td>224.8</td>\n",
       "      <td>0.201</td>\n",
       "      <td>1.0</td>\n",
       "    </tr>\n",
       "    <tr>\n",
       "      <th>23648</th>\n",
       "      <td>0004A30B00F842B6</td>\n",
       "      <td>2023-03-10 23:15:22.910</td>\n",
       "      <td>NaN</td>\n",
       "      <td>NaN</td>\n",
       "      <td>0.0</td>\n",
       "      <td>0.000</td>\n",
       "      <td>1.0</td>\n",
       "    </tr>\n",
       "    <tr>\n",
       "      <th>...</th>\n",
       "      <td>...</td>\n",
       "      <td>...</td>\n",
       "      <td>...</td>\n",
       "      <td>...</td>\n",
       "      <td>...</td>\n",
       "      <td>...</td>\n",
       "      <td>...</td>\n",
       "    </tr>\n",
       "    <tr>\n",
       "      <th>96413</th>\n",
       "      <td>0004A30B00F842B6</td>\n",
       "      <td>2023-04-05 11:03:06.802</td>\n",
       "      <td>-34.205670</td>\n",
       "      <td>-64.031680</td>\n",
       "      <td>184.1</td>\n",
       "      <td>0.257</td>\n",
       "      <td>1.0</td>\n",
       "    </tr>\n",
       "    <tr>\n",
       "      <th>96431</th>\n",
       "      <td>0004A30B00F842B6</td>\n",
       "      <td>2023-04-05 11:16:03.558</td>\n",
       "      <td>-34.205652</td>\n",
       "      <td>-64.031674</td>\n",
       "      <td>169.5</td>\n",
       "      <td>0.095</td>\n",
       "      <td>1.0</td>\n",
       "    </tr>\n",
       "    <tr>\n",
       "      <th>96449</th>\n",
       "      <td>0004A30B00F842B6</td>\n",
       "      <td>2023-04-05 11:30:18.080</td>\n",
       "      <td>-34.205808</td>\n",
       "      <td>-64.031951</td>\n",
       "      <td>173.0</td>\n",
       "      <td>1.016</td>\n",
       "      <td>1.0</td>\n",
       "    </tr>\n",
       "    <tr>\n",
       "      <th>96482</th>\n",
       "      <td>0004A30B00F842B6</td>\n",
       "      <td>2023-04-05 11:47:38.280</td>\n",
       "      <td>-34.205672</td>\n",
       "      <td>-64.031708</td>\n",
       "      <td>0.0</td>\n",
       "      <td>0.022</td>\n",
       "      <td>1.0</td>\n",
       "    </tr>\n",
       "    <tr>\n",
       "      <th>96498</th>\n",
       "      <td>0004A30B00F842B6</td>\n",
       "      <td>2023-04-05 12:01:07.082</td>\n",
       "      <td>-34.205672</td>\n",
       "      <td>-64.031708</td>\n",
       "      <td>0.0</td>\n",
       "      <td>0.022</td>\n",
       "      <td>1.0</td>\n",
       "    </tr>\n",
       "  </tbody>\n",
       "</table>\n",
       "<p>592 rows × 7 columns</p>\n",
       "</div>"
      ],
      "text/plain": [
       "                   UUID               updatedAt  dataRowData_lat  \\\n",
       "22667  0004A30B00F842B6 2023-03-10 21:39:56.083       -32.849794   \n",
       "22950  0004A30B00F842B6 2023-03-10 21:54:03.019       -32.849809   \n",
       "23195  0004A30B00F842B6 2023-03-10 22:06:59.113       -32.849797   \n",
       "23403  0004A30B00F842B6 2023-03-10 22:21:14.271       -32.849797   \n",
       "23648  0004A30B00F842B6 2023-03-10 23:15:22.910              NaN   \n",
       "...                 ...                     ...              ...   \n",
       "96413  0004A30B00F842B6 2023-04-05 11:03:06.802       -34.205670   \n",
       "96431  0004A30B00F842B6 2023-04-05 11:16:03.558       -34.205652   \n",
       "96449  0004A30B00F842B6 2023-04-05 11:30:18.080       -34.205808   \n",
       "96482  0004A30B00F842B6 2023-04-05 11:47:38.280       -34.205672   \n",
       "96498  0004A30B00F842B6 2023-04-05 12:01:07.082       -34.205672   \n",
       "\n",
       "       dataRowData_lng  dataRowData_gpsAlt  dataRowData_gpsVel  \\\n",
       "22667       -63.580536                 0.0               0.055   \n",
       "22950       -63.580539               225.6               0.003   \n",
       "23195       -63.580911               224.8               0.201   \n",
       "23403       -63.580911               224.8               0.201   \n",
       "23648              NaN                 0.0               0.000   \n",
       "...                ...                 ...                 ...   \n",
       "96413       -64.031680               184.1               0.257   \n",
       "96431       -64.031674               169.5               0.095   \n",
       "96449       -64.031951               173.0               1.016   \n",
       "96482       -64.031708                 0.0               0.022   \n",
       "96498       -64.031708                 0.0               0.022   \n",
       "\n",
       "       dataRowData_gpsFixed  \n",
       "22667                   1.0  \n",
       "22950                   1.0  \n",
       "23195                   1.0  \n",
       "23403                   1.0  \n",
       "23648                   1.0  \n",
       "...                     ...  \n",
       "96413                   1.0  \n",
       "96431                   1.0  \n",
       "96449                   1.0  \n",
       "96482                   1.0  \n",
       "96498                   1.0  \n",
       "\n",
       "[592 rows x 7 columns]"
      ]
     },
     "execution_count": 20,
     "metadata": {},
     "output_type": "execute_result"
    }
   ],
   "source": [
    "df_gps[df_gps.UUID=='0004A30B00F842B6']"
   ]
  },
  {
   "cell_type": "code",
   "execution_count": 13,
   "metadata": {},
   "outputs": [],
   "source": [
    "vaca_1=df_gps[df_gps.UUID=='0004A30B00F8A181']\n",
    "#vaca_1.updatedAt= pd.to_datetime(vaca_1.updatedAt)"
   ]
  },
  {
   "cell_type": "code",
   "execution_count": 17,
   "metadata": {},
   "outputs": [
    {
     "data": {
      "text/html": [
       "<div style=\"width:100%;\"><div style=\"position:relative;width:100%;height:0;padding-bottom:60%;\"><span style=\"color:#565656\">Make this Notebook Trusted to load map: File -> Trust Notebook</span><iframe srcdoc=\"&lt;!DOCTYPE html&gt;\n",
       "&lt;html&gt;\n",
       "&lt;head&gt;\n",
       "    \n",
       "    &lt;meta http-equiv=&quot;content-type&quot; content=&quot;text/html; charset=UTF-8&quot; /&gt;\n",
       "    \n",
       "        &lt;script&gt;\n",
       "            L_NO_TOUCH = false;\n",
       "            L_DISABLE_3D = false;\n",
       "        &lt;/script&gt;\n",
       "    \n",
       "    &lt;style&gt;html, body {width: 100%;height: 100%;margin: 0;padding: 0;}&lt;/style&gt;\n",
       "    &lt;style&gt;#map {position:absolute;top:0;bottom:0;right:0;left:0;}&lt;/style&gt;\n",
       "    &lt;script src=&quot;https://cdn.jsdelivr.net/npm/leaflet@1.9.3/dist/leaflet.js&quot;&gt;&lt;/script&gt;\n",
       "    &lt;script src=&quot;https://code.jquery.com/jquery-1.12.4.min.js&quot;&gt;&lt;/script&gt;\n",
       "    &lt;script src=&quot;https://cdn.jsdelivr.net/npm/bootstrap@5.2.2/dist/js/bootstrap.bundle.min.js&quot;&gt;&lt;/script&gt;\n",
       "    &lt;script src=&quot;https://cdnjs.cloudflare.com/ajax/libs/Leaflet.awesome-markers/2.0.2/leaflet.awesome-markers.js&quot;&gt;&lt;/script&gt;\n",
       "    &lt;link rel=&quot;stylesheet&quot; href=&quot;https://cdn.jsdelivr.net/npm/leaflet@1.9.3/dist/leaflet.css&quot;/&gt;\n",
       "    &lt;link rel=&quot;stylesheet&quot; href=&quot;https://cdn.jsdelivr.net/npm/bootstrap@5.2.2/dist/css/bootstrap.min.css&quot;/&gt;\n",
       "    &lt;link rel=&quot;stylesheet&quot; href=&quot;https://netdna.bootstrapcdn.com/bootstrap/3.0.0/css/bootstrap.min.css&quot;/&gt;\n",
       "    &lt;link rel=&quot;stylesheet&quot; href=&quot;https://cdn.jsdelivr.net/npm/@fortawesome/fontawesome-free@6.2.0/css/all.min.css&quot;/&gt;\n",
       "    &lt;link rel=&quot;stylesheet&quot; href=&quot;https://cdnjs.cloudflare.com/ajax/libs/Leaflet.awesome-markers/2.0.2/leaflet.awesome-markers.css&quot;/&gt;\n",
       "    &lt;link rel=&quot;stylesheet&quot; href=&quot;https://cdn.jsdelivr.net/gh/python-visualization/folium/folium/templates/leaflet.awesome.rotate.min.css&quot;/&gt;\n",
       "    \n",
       "            &lt;meta name=&quot;viewport&quot; content=&quot;width=device-width,\n",
       "                initial-scale=1.0, maximum-scale=1.0, user-scalable=no&quot; /&gt;\n",
       "            &lt;style&gt;\n",
       "                #map_0fb3cdc29cb14a5c7ea6bdb3366fff4e {\n",
       "                    position: relative;\n",
       "                    width: 70.0%;\n",
       "                    height: 60.0%;\n",
       "                    left: 0.0%;\n",
       "                    top: 0.0%;\n",
       "                }\n",
       "                .leaflet-container { font-size: 1rem; }\n",
       "            &lt;/style&gt;\n",
       "        \n",
       "&lt;/head&gt;\n",
       "&lt;body&gt;\n",
       "    \n",
       "    \n",
       "            &lt;div class=&quot;folium-map&quot; id=&quot;map_0fb3cdc29cb14a5c7ea6bdb3366fff4e&quot; &gt;&lt;/div&gt;\n",
       "        \n",
       "&lt;/body&gt;\n",
       "&lt;script&gt;\n",
       "    \n",
       "    \n",
       "            var map_0fb3cdc29cb14a5c7ea6bdb3366fff4e = L.map(\n",
       "                &quot;map_0fb3cdc29cb14a5c7ea6bdb3366fff4e&quot;,\n",
       "                {\n",
       "                    center: [-34.19982266666667, -64.0458445],\n",
       "                    crs: L.CRS.EPSG3857,\n",
       "                    zoom: 15,\n",
       "                    zoomControl: true,\n",
       "                    preferCanvas: false,\n",
       "                }\n",
       "            );\n",
       "\n",
       "            \n",
       "\n",
       "        \n",
       "    \n",
       "            var tile_layer_282746502597914c4a64113ded15f3d6 = L.tileLayer(\n",
       "                &quot;https://{s}.tile.openstreetmap.org/{z}/{x}/{y}.png&quot;,\n",
       "                {&quot;attribution&quot;: &quot;Data by \\u0026copy; \\u003ca target=\\&quot;_blank\\&quot; href=\\&quot;http://openstreetmap.org\\&quot;\\u003eOpenStreetMap\\u003c/a\\u003e, under \\u003ca target=\\&quot;_blank\\&quot; href=\\&quot;http://www.openstreetmap.org/copyright\\&quot;\\u003eODbL\\u003c/a\\u003e.&quot;, &quot;detectRetina&quot;: false, &quot;maxNativeZoom&quot;: 18, &quot;maxZoom&quot;: 18, &quot;minZoom&quot;: 0, &quot;noWrap&quot;: false, &quot;opacity&quot;: 1, &quot;subdomains&quot;: &quot;abc&quot;, &quot;tms&quot;: false}\n",
       "            ).addTo(map_0fb3cdc29cb14a5c7ea6bdb3366fff4e);\n",
       "        \n",
       "    \n",
       "            var marker_f5f74f45fadb23614f7318d30aaa61e5 = L.marker(\n",
       "                [-34.19982266666667, -64.0458445],\n",
       "                {}\n",
       "            ).addTo(map_0fb3cdc29cb14a5c7ea6bdb3366fff4e);\n",
       "        \n",
       "    \n",
       "            var marker_12219617f313db587121ef07e952cb94 = L.marker(\n",
       "                [-34.201539333333336, -64.04434316666666],\n",
       "                {}\n",
       "            ).addTo(map_0fb3cdc29cb14a5c7ea6bdb3366fff4e);\n",
       "        \n",
       "    \n",
       "            var marker_ed8addeaa4d1ea8c023e5ba10f4baa83 = L.marker(\n",
       "                [-34.19999583333333, -64.045736],\n",
       "                {}\n",
       "            ).addTo(map_0fb3cdc29cb14a5c7ea6bdb3366fff4e);\n",
       "        \n",
       "    \n",
       "            var marker_a1e7a1c9270a8d633a6815db8a3e5402 = L.marker(\n",
       "                [-34.200821, -64.04638366666667],\n",
       "                {}\n",
       "            ).addTo(map_0fb3cdc29cb14a5c7ea6bdb3366fff4e);\n",
       "        \n",
       "    \n",
       "            var marker_f9780393ac7b09196ff095640e98d1dc = L.marker(\n",
       "                [-34.199749833333335, -64.0466245],\n",
       "                {}\n",
       "            ).addTo(map_0fb3cdc29cb14a5c7ea6bdb3366fff4e);\n",
       "        \n",
       "    \n",
       "            var marker_b03150d8fb967d9f73abd1e0aa752fc4 = L.marker(\n",
       "                [-34.199473833333336, -64.04614083333334],\n",
       "                {}\n",
       "            ).addTo(map_0fb3cdc29cb14a5c7ea6bdb3366fff4e);\n",
       "        \n",
       "    \n",
       "            var marker_5b6059860a7fca2cf0338d15f3676d11 = L.marker(\n",
       "                [-34.19981666666666, -64.04875983333334],\n",
       "                {}\n",
       "            ).addTo(map_0fb3cdc29cb14a5c7ea6bdb3366fff4e);\n",
       "        \n",
       "    \n",
       "            var marker_d25b2b0c6bd3619e4af53b7c5f991086 = L.marker(\n",
       "                [-34.199637833333334, -64.04868883333333],\n",
       "                {}\n",
       "            ).addTo(map_0fb3cdc29cb14a5c7ea6bdb3366fff4e);\n",
       "        \n",
       "    \n",
       "            var marker_bb573b54fa716fc7e69a6fd015a5c218 = L.marker(\n",
       "                [-34.1991555, -64.04954833333333],\n",
       "                {}\n",
       "            ).addTo(map_0fb3cdc29cb14a5c7ea6bdb3366fff4e);\n",
       "        \n",
       "    \n",
       "            var marker_98068e4a89ff8d9e9e350021fc9cd272 = L.marker(\n",
       "                [-34.1991365, -64.04939783333333],\n",
       "                {}\n",
       "            ).addTo(map_0fb3cdc29cb14a5c7ea6bdb3366fff4e);\n",
       "        \n",
       "    \n",
       "            var marker_be67307d61ffa6f94ff4efa61d57fd4c = L.marker(\n",
       "                [-34.19918633333333, -64.049723],\n",
       "                {}\n",
       "            ).addTo(map_0fb3cdc29cb14a5c7ea6bdb3366fff4e);\n",
       "        \n",
       "    \n",
       "            var marker_72564ec2133b917bf870f7f7f24d7a67 = L.marker(\n",
       "                [-34.204054666666664, -64.04794683333333],\n",
       "                {}\n",
       "            ).addTo(map_0fb3cdc29cb14a5c7ea6bdb3366fff4e);\n",
       "        \n",
       "    \n",
       "            var marker_3d71adcaeea60bd7bc8e2cdf294c1c3e = L.marker(\n",
       "                [-34.204291166666664, -64.046025],\n",
       "                {}\n",
       "            ).addTo(map_0fb3cdc29cb14a5c7ea6bdb3366fff4e);\n",
       "        \n",
       "    \n",
       "            var marker_dd0151b42f4f32c3bdba7e8e464750f4 = L.marker(\n",
       "                [-34.202111, -64.0317065],\n",
       "                {}\n",
       "            ).addTo(map_0fb3cdc29cb14a5c7ea6bdb3366fff4e);\n",
       "        \n",
       "    \n",
       "            var poly_line_a8c2529ba6e2b02e0caf7768349461a8 = L.polyline(\n",
       "                [[-34.19982266666667, -64.0458445], [-34.201539333333336, -64.04434316666666], [-34.19999583333333, -64.045736], [-34.200821, -64.04638366666667], [-34.199749833333335, -64.0466245], [-34.199473833333336, -64.04614083333334], [-34.19981666666666, -64.04875983333334], [-34.199637833333334, -64.04868883333333], [-34.1991555, -64.04954833333333], [-34.1991365, -64.04939783333333], [-34.19918633333333, -64.049723], [-34.204054666666664, -64.04794683333333], [-34.204291166666664, -64.046025], [-34.202111, -64.0317065]],\n",
       "                {&quot;bubblingMouseEvents&quot;: true, &quot;color&quot;: &quot;blue&quot;, &quot;dashArray&quot;: null, &quot;dashOffset&quot;: null, &quot;fill&quot;: false, &quot;fillColor&quot;: &quot;blue&quot;, &quot;fillOpacity&quot;: 0.2, &quot;fillRule&quot;: &quot;evenodd&quot;, &quot;lineCap&quot;: &quot;round&quot;, &quot;lineJoin&quot;: &quot;round&quot;, &quot;noClip&quot;: false, &quot;opacity&quot;: 1.0, &quot;smoothFactor&quot;: 1.0, &quot;stroke&quot;: true, &quot;weight&quot;: 3}\n",
       "            ).addTo(map_0fb3cdc29cb14a5c7ea6bdb3366fff4e);\n",
       "        \n",
       "&lt;/script&gt;\n",
       "&lt;/html&gt;\" style=\"position:absolute;width:100%;height:100%;left:0;top:0;border:none !important;\" allowfullscreen webkitallowfullscreen mozallowfullscreen></iframe></div></div>"
      ],
      "text/plain": [
       "<folium.folium.Map at 0x2a5b7f26b00>"
      ]
     },
     "execution_count": 17,
     "metadata": {},
     "output_type": "execute_result"
    }
   ],
   "source": [
    "import folium\n",
    "datos_gps =vaca_1[['dataRowData_lat','dataRowData_lng']]\n",
    "\n",
    "mapa = folium.Map(location=datos_gps.iloc[0].values,zoom_start=15,width=\"70%\",height=\"60%\")\n",
    "\n",
    "for i , d in datos_gps.iterrows():\n",
    "  folium.Marker(location=[d['dataRowData_lat'],d['dataRowData_lng']]).add_to(mapa)\n",
    "  \n",
    "\n",
    "folium.PolyLine(locations=datos_gps,color='blue').add_to(mapa)\n",
    "mapa"
   ]
  }
 ],
 "metadata": {
  "kernelspec": {
   "display_name": "Python 3.10.5 64-bit",
   "language": "python",
   "name": "python3"
  },
  "language_info": {
   "codemirror_mode": {
    "name": "ipython",
    "version": 3
   },
   "file_extension": ".py",
   "mimetype": "text/x-python",
   "name": "python",
   "nbconvert_exporter": "python",
   "pygments_lexer": "ipython3",
   "version": "3.10.5"
  },
  "orig_nbformat": 4,
  "vscode": {
   "interpreter": {
    "hash": "c63d8c7d738c2960218a10995aedf0a7f67a49a231e71037adf0440953cdb45b"
   }
  }
 },
 "nbformat": 4,
 "nbformat_minor": 2
}
