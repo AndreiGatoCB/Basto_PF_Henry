{
 "cells": [
  {
   "cell_type": "code",
   "execution_count": null,
   "metadata": {},
   "outputs": [],
   "source": [
    "import pymongo\n",
    "import pandas as pd\n",
    "\n",
    "data_mongo= pymongo.MongoClient('localhost:27017')"
   ]
  },
  {
   "cell_type": "code",
   "execution_count": 2,
   "metadata": {},
   "outputs": [],
   "source": [
    "db= data_mongo['test']\n",
    "rows=db['datarows']"
   ]
  },
  {
   "cell_type": "code",
   "execution_count": 3,
   "metadata": {},
   "outputs": [],
   "source": [
    "drow1= pd.json_normalize(list(rows.find()[:150000]),sep='_')\n",
    "drow2= pd.json_normalize(list(rows.find()[150000:300000]),sep='_')"
   ]
  },
  {
   "cell_type": "code",
   "execution_count": 4,
   "metadata": {},
   "outputs": [],
   "source": [
    "drow3= pd.json_normalize(list(rows.find()[300000:450000]),sep='_')\n",
    "drow4= pd.json_normalize(list(rows.find()[450000:600000]),sep='_')"
   ]
  },
  {
   "cell_type": "code",
   "execution_count": 5,
   "metadata": {},
   "outputs": [],
   "source": [
    "drow5= pd.json_normalize(list(rows.find()[600000:750000]),sep='_')\n",
    "drow6= pd.json_normalize(list(rows.find()[750000:900000]),sep='_')"
   ]
  },
  {
   "cell_type": "code",
   "execution_count": 6,
   "metadata": {},
   "outputs": [],
   "source": [
    "drow7= pd.json_normalize(list(rows.find()[900000:1050000]),sep='_')\n",
    "drow8= pd.json_normalize(list(rows.find()[1050000:1200000]),sep='_')\n",
    "drow9= pd.json_normalize(list(rows.find()[1200000:]),sep='_')"
   ]
  },
  {
   "cell_type": "code",
   "execution_count": 7,
   "metadata": {},
   "outputs": [
    {
     "data": {
      "text/plain": [
       "(1296780, 22)"
      ]
     },
     "execution_count": 7,
     "metadata": {},
     "output_type": "execute_result"
    }
   ],
   "source": [
    "df_row=pd.concat([drow1,drow2,drow3,drow4,drow5,drow6,drow7,drow8,drow9],axis=0)\n",
    "df_row.shape"
   ]
  },
  {
   "cell_type": "code",
   "execution_count": 8,
   "metadata": {},
   "outputs": [],
   "source": [
    "df_row._id=df_row._id.astype(str)"
   ]
  },
  {
   "cell_type": "code",
   "execution_count": 1,
   "metadata": {},
   "outputs": [
    {
     "name": "stdout",
     "output_type": "stream",
     "text": [
      "<class 'pandas.core.frame.DataFrame'>\n",
      "Int64Index: 321019 entries, 1 to 96773\n",
      "Data columns (total 9 columns):\n",
      " #   Column                Non-Null Count   Dtype         \n",
      "---  ------                --------------   -----         \n",
      " 0   UUID                  321019 non-null  object        \n",
      " 1   dataRowType           321019 non-null  object        \n",
      " 2   createdAt             321019 non-null  datetime64[ns]\n",
      " 3   updatedAt             321019 non-null  datetime64[ns]\n",
      " 4   dataRowData_lat       319620 non-null  float64       \n",
      " 5   dataRowData_lng       319622 non-null  float64       \n",
      " 6   dataRowData_gpsAlt    320871 non-null  float64       \n",
      " 7   dataRowData_gpsVel    320871 non-null  float64       \n",
      " 8   dataRowData_gpsFixed  320871 non-null  float64       \n",
      "dtypes: datetime64[ns](2), float64(5), object(2)\n",
      "memory usage: 24.5+ MB\n"
     ]
    }
   ],
   "source": [
    "import pandas as pd\n",
    "df= pd.read_csv('data_clean_gps.csv',index_col='Unnamed: 0')\n",
    "df.createdAt=pd.to_datetime(df.createdAt) \n",
    "df.updatedAt=pd.to_datetime(df.updatedAt) \n",
    "df.info()"
   ]
  },
  {
   "cell_type": "code",
   "execution_count": 9,
   "metadata": {},
   "outputs": [
    {
     "data": {
      "text/plain": [
       "array(['BEACON', 'GPS', 'BATTERY', nan], dtype=object)"
      ]
     },
     "execution_count": 9,
     "metadata": {},
     "output_type": "execute_result"
    }
   ],
   "source": [
    "df_row.dataRowType.unique()"
   ]
  },
  {
   "cell_type": "code",
   "execution_count": 10,
   "metadata": {},
   "outputs": [],
   "source": [
    "data_gps=df_row[df_row.dataRowType=='GPS']\n",
    "data_beacon= df_row[df_row.dataRowType=='BEACON']\n",
    "data_battery= df_row[df_row.dataRowType=='BATTERY']"
   ]
  },
  {
   "cell_type": "code",
   "execution_count": null,
   "metadata": {},
   "outputs": [],
   "source": [
    "df_gps=data_gps[['UUID','dataRowType','createdAt','updatedAt','dataRowData_lat','dataRowData_lng','dataRowData_gpsAlt','dataRowData_gpsVel','dataRowData_gpsFixed']]"
   ]
  },
  {
   "cell_type": "code",
   "execution_count": 11,
   "metadata": {},
   "outputs": [],
   "source": [
    "df_bate=data_battery[['UUID','dataRowType','createdAt','updatedAt','dataRowData_timestamp','dataRowData_battery']]"
   ]
  },
  {
   "cell_type": "code",
   "execution_count": 12,
   "metadata": {},
   "outputs": [],
   "source": [
    "df_beacon=data_beacon[['UUID','dataRowType','createdAt','updatedAt','dataRowData_timestamp','dataRowData_mac','dataRowData_battery','dataRowData_temperature','dataRowData_rssi','dataRowData_accelerometer']]"
   ]
  },
  {
   "cell_type": "code",
   "execution_count": 2,
   "metadata": {},
   "outputs": [],
   "source": [
    "def data_devices(data,uuid):\n",
    "    data=data[data.UUID==uuid]\n",
    "    data.drop(data[data.dataRowData_lat.isna()].index,inplace=True)\n",
    "    data.reset_index()\n",
    "    return data\n",
    "\n",
    "def gps_data(data):\n",
    "    gps= data[['dataRowData_lat','dataRowData_lng']]\n",
    "    gps = gps.dropna()\n",
    "    return gps"
   ]
  },
  {
   "cell_type": "code",
   "execution_count": null,
   "metadata": {},
   "outputs": [],
   "source": [
    "vaca_1=data_devices(df,'0004A30B00F82E81')"
   ]
  },
  {
   "cell_type": "code",
   "execution_count": null,
   "metadata": {},
   "outputs": [],
   "source": [
    "y= data_devices(df,'0004A30B00F860CC')\n",
    "y.head()"
   ]
  },
  {
   "cell_type": "code",
   "execution_count": 5,
   "metadata": {},
   "outputs": [],
   "source": [
    "d_p=vaca_1[['UUID','createdAt','dataRowData_lat','dataRowData_lng']]"
   ]
  },
  {
   "cell_type": "code",
   "execution_count": 6,
   "metadata": {},
   "outputs": [
    {
     "name": "stdout",
     "output_type": "stream",
     "text": [
      "distancia:0.63 km\n",
      "Velocidad: 0.40 km\n",
      "Tiempo:1.57 km\n"
     ]
    }
   ],
   "source": [
    "from geopy.distance import geodesic,great_circle\n",
    "from geopy import Point\n",
    "\n",
    "\n",
    "cordena1=tuple(d_p.iloc[0][['dataRowData_lat','dataRowData_lng']].values)\n",
    "cordena2= tuple(d_p.iloc[-1][['dataRowData_lat','dataRowData_lng']].values)\n",
    "\n",
    "dista_km= great_circle(cordena1,cordena2).kilometers\n",
    "velocidad= vaca_1.dataRowData_gpsVel.mean()\n",
    "time_travel= dista_km/velocidad\n",
    "\n",
    "print(f'distancia:{dista_km:.2f} km')\n",
    "print(f'Velocidad: {velocidad:.2f} km')\n",
    "print(f'Tiempo:{time_travel:.2f} km')"
   ]
  },
  {
   "cell_type": "code",
   "execution_count": 8,
   "metadata": {},
   "outputs": [],
   "source": [
    "def distancia_recorrida(data):\n",
    "    cordena1=tuple(data.iloc[0][['dataRowData_lat','dataRowData_lng']].values)\n",
    "    cordena2= tuple(data.iloc[-1][['dataRowData_lat','dataRowData_lng']].values)\n",
    "    dista_km= great_circle(cordena1,cordena2).kilometers\n",
    "    return dista_km"
   ]
  },
  {
   "cell_type": "code",
   "execution_count": 9,
   "metadata": {},
   "outputs": [],
   "source": [
    "def interview_vaca(data): # tratar de filtrar por perimetro porque si hay valores (que los hay)fuera de rango de los -90 90 da error\n",
    "    data_dis=[]\n",
    "    data_vel=[]\n",
    "    data_time=[]\n",
    "    for i in range(0,data.shape[0]+1):\n",
    "        try:\n",
    "            dista_km= great_circle(tuple(data.iloc[i][['dataRowData_lat','dataRowData_lng']].values),tuple(data.iloc[i+1][['dataRowData_lat','dataRowData_lng']].values)).kilometers\n",
    "            if dista_km <= 8.:\n",
    "                data_dis.append(dista_km)\n",
    "            if data.iloc[i].dataRowData_gpsVel:\n",
    "                data_vel.append(data.iloc[i].dataRowData_gpsVel)\n",
    "                data_time.append(dista_km/data.iloc[i].dataRowData_gpsVel)\n",
    "            else:\n",
    "                data_time.append(dista_km/pd.Series(data_vel).mean())# les puede dar error si el array de velocidad esta vacio... toma el valor promedio de las velocidades que hay hasta el momento\n",
    "        except IndexError:\n",
    "            pass\n",
    "    return data_dis,data_vel,data_time\n"
   ]
  },
  {
   "cell_type": "code",
   "execution_count": 48,
   "metadata": {},
   "outputs": [
    {
     "data": {
      "text/plain": [
       "array([-34.19883983333333, -64.04658233333333], dtype=object)"
      ]
     },
     "execution_count": 48,
     "metadata": {},
     "output_type": "execute_result"
    }
   ],
   "source": [
    "vaca_1.iloc[0][['dataRowData_lat','dataRowData_lng']].values"
   ]
  },
  {
   "cell_type": "code",
   "execution_count": 10,
   "metadata": {},
   "outputs": [],
   "source": [
    "import geopandas as gpd\n",
    "from shapely.geometry import Point\n",
    "import folium"
   ]
  },
  {
   "cell_type": "code",
   "execution_count": 11,
   "metadata": {},
   "outputs": [],
   "source": [
    "setle_lat=-34.163851\n",
    "setle_lng=-64.071678\n",
    "\n",
    "gdf= gpd.GeoDataFrame(df,crs='EPSG:4326',geometry=gpd.points_from_xy(df.dataRowData_lng,df.dataRowData_lat))"
   ]
  },
  {
   "cell_type": "code",
   "execution_count": 12,
   "metadata": {},
   "outputs": [],
   "source": [
    "import math\n",
    "def perimetro_aprox(hectarea):\n",
    "    hect=hectarea\n",
    "    lado = math.sqrt(hect)*10\n",
    "    perim = lado*4\n",
    "    return perim\n",
    "\n",
    "def area_perimetro(latitud,longitud,hectareas):\n",
    "    setle_lat=latitud\n",
    "    setle_lng=longitud\n",
    "    punto_referencia= Point(setle_lng,setle_lat)\t\n",
    "    per_kilo= perimetro_aprox(hectareas)\n",
    "    circulo= punto_referencia.buffer(per_kilo/111.32) # valor 1 grado aprox en kilometro en el ecuador \n",
    "    on_perimetro= gdf[gdf.geometry.within(circulo)]\n",
    "    return on_perimetro"
   ]
  },
  {
   "cell_type": "code",
   "execution_count": 13,
   "metadata": {},
   "outputs": [],
   "source": [
    "def filter_area_perimetro(data,latitud,longitud,hectareas):\n",
    "    gdf= gpd.GeoDataFrame(data,crs='EPSG:4326',geometry=gpd.points_from_xy(data.dataRowData_lng,data.dataRowData_lat))\n",
    "    setle_lat=latitud\n",
    "    setle_lng=longitud\n",
    "    punto_referencia= Point(setle_lng,setle_lat)\t\n",
    "    per_kilo= perimetro_aprox(hectareas)\n",
    "    circulo= punto_referencia.buffer(per_kilo/111.32) # valor 1 grado aprox en kilometro en el ecuador \n",
    "    on_perimetro= gdf[gdf.geometry.within(circulo)]\n",
    "    return on_perimetro"
   ]
  },
  {
   "cell_type": "code",
   "execution_count": 14,
   "metadata": {},
   "outputs": [],
   "source": [
    "import string\n",
    "import random\n",
    "import seaborn as sns\n",
    "import matplotlib.colors as mcolors\n",
    "\n",
    "def random_color():\n",
    "    \"\"\"Genera un color cálido aleatorio en formato hexadecimal.\"\"\"\n",
    "    # n = random.randint(2,100)\n",
    "    # paleta= sns.color_palette(\"deep\",n_colors=n)\n",
    "    # colores_hex = [mcolors.rgb2hex(color) for color in paleta]\n",
    "    # return colores_hex[random.randint(1,n-1)]\n",
    "    while True:\n",
    "        color ='#' + ''.join(random.choices(string.hexdigits[:-6], k=6))\n",
    "        # Comprueba si el color es cálido\n",
    "        r, g, b = int(color[1:3], 16), int(color[3:5], 16), int(color[5:7], 16)\n",
    "        if r > g and r > b and abs(r-g) < 60:\n",
    "            return color"
   ]
  },
  {
   "cell_type": "code",
   "execution_count": 15,
   "metadata": {},
   "outputs": [],
   "source": [
    "def grafica_gps(datos_gps,graf,color):\n",
    "    for i , d in datos_gps.iterrows():\n",
    "        folium.Marker(location=[d['dataRowData_lat'],d['dataRowData_lng']]).add_to(graf)\n",
    "    folium.PolyLine(locations=datos_gps,color=color).add_to(graf) #necesitya una funcion que me genere colores aleatorio para identificar"
   ]
  },
  {
   "cell_type": "code",
   "execution_count": null,
   "metadata": {},
   "outputs": [],
   "source": [
    "on_perimetro= area_perimetro(latitud=-26.859657,longitud=-65.245558,hectareas= 11.33)"
   ]
  },
  {
   "cell_type": "code",
   "execution_count": 41,
   "metadata": {},
   "outputs": [
    {
     "data": {
      "text/plain": [
       "array([], dtype=object)"
      ]
     },
     "execution_count": 41,
     "metadata": {},
     "output_type": "execute_result"
    }
   ],
   "source": [
    "uuid_devis= on_perimetro.UUID.unique()\n",
    "uuid_devis"
   ]
  },
  {
   "cell_type": "code",
   "execution_count": null,
   "metadata": {},
   "outputs": [],
   "source": [
    "aux=0\n",
    "mp=folium.Map()\n",
    "for i in uuid_devis[:4]:\n",
    "    if aux == 0:\n",
    "        dta=data_devices(on_perimetro, i )\n",
    "        dta_gps= gps_data(dta)\n",
    "        mp=folium.Map(location=[setle_lat,setle_lng],zoom_start=15)\n",
    "        grafica_gps(dta_gps,mp)\n",
    "        aux = 1\n",
    "    else:\n",
    "        dta=data_devices(on_perimetro, i )\n",
    "        dta_gps= gps_data(dta)\n",
    "        grafica_gps(dta_gps,mp)\n",
    "        aux = 1\n",
    "mp"
   ]
  },
  {
   "cell_type": "code",
   "execution_count": 56,
   "metadata": {},
   "outputs": [],
   "source": [
    "import datetime\n",
    "\n",
    "def obtener_fecha_inicio_fin(semana):\n",
    "    \"\"\"\n",
    "    Función que recibe una semana en formato de fecha y devuelve la fecha de inicio y finalización de esa semana.\n",
    "    \n",
    "    Args:\n",
    "    semana (str o datetime): Semana en formato de fecha. Debe estar en formato 'YYYY-MM-DD'.\n",
    "    \n",
    "    Returns:\n",
    "    fecha_inicio (str): Fecha de inicio de la semana en formato 'YYYY-MM-DD'.\n",
    "    fecha_fin (str): Fecha de finalización de la semana en formato 'YYYY-MM-DD'.\n",
    "    \"\"\"\n",
    "    \n",
    "    if isinstance(semana, str):\n",
    "        semana = datetime.datetime.strptime(semana, '%Y-%m-%d')\n",
    "        \n",
    "    dia_semana = semana.weekday()\n",
    "    \n",
    "    fecha_inicio = semana - datetime.timedelta(days=dia_semana)\n",
    "    fecha_fin = fecha_inicio + datetime.timedelta(days=6)\n",
    "    \n",
    "    fecha_inicio = fecha_inicio.strftime('%Y-%m-%d')\n",
    "    fecha_fin = fecha_fin.strftime('%Y-%m-%d')\n",
    "    return fecha_inicio, fecha_fin\n",
    "\n",
    "\n",
    "def filter_time_day(data,momento):\n",
    "    switch_dict={\n",
    "        'noche': data[((data.updatedAt.dt.hour > 20) & (data.updatedAt.dt.hour < 24))| ((data.updatedAt.dt.hour > 0) & (data.updatedAt.dt.hour < 7))],\n",
    "        'madrugada':  data[(data.updatedAt.dt.hour > 0) & (data.updatedAt.dt.hour < 7)],\n",
    "        'tarde':data[(data.updatedAt.dt.hour > 13) & (data.updatedAt.dt.hour < 20)],\n",
    "        'mañana':data[(data.updatedAt.dt.hour > 7) & (data.updatedAt.dt.hour < 13)]\n",
    "    }\n",
    "    return switch_dict.get(momento,'valor')\n",
    "\n",
    "\n",
    "def filter_week_data(data,fecha):\n",
    "    if isinstance(fecha,int):\n",
    "        data = data[data.createdAt.dt.week == fecha]\n",
    "    else:\n",
    "        week = obtener_fecha_inicio_fin(fecha)\n",
    "        data = data[(data.createdAt >= week[0]) & (data.createdAt <= week[1])]\n",
    "    return data"
   ]
  },
  {
   "cell_type": "code",
   "execution_count": 46,
   "metadata": {},
   "outputs": [],
   "source": [
    "def time_min_max_data(data):\n",
    "    \"\"\"Funcion que devuelve los valores de fecha maxima que aparece en los dataframe\n",
    "\n",
    "    Args:\n",
    "        data (dataframe): recibe el dataframe saca fecha maxima y fecha minima\n",
    "\n",
    "    Returns:\n",
    "        tuple:(datatime,datatime) \n",
    "    \"\"\"\n",
    "    fecha_max=vaca_1.createdAt.dt.date.max().strftime('%Y-%m-%d')\n",
    "    fecha_min=vaca_1.createdAt.dt.date.min().strftime('%Y-%m-%d')\n",
    "    return fecha_min ,fecha_max"
   ]
  },
  {
   "cell_type": "code",
   "execution_count": 120,
   "metadata": {},
   "outputs": [],
   "source": [
    "def dataframe_interview_vaca(data): # tratar de filtrar por perimetro porque si hay valores (que los hay)fuera de rango de los -90 90 da error\n",
    "    data_dis=[]\n",
    "    data_vel=[]\n",
    "    data_time=[]\n",
    "    data_inter= []\n",
    "    for i in range(0,data.shape[0]+1):\n",
    "        try:\n",
    "            dista_km= great_circle(tuple(data.iloc[i][['dataRowData_lat','dataRowData_lng']].values),tuple(data.iloc[i+1][['dataRowData_lat','dataRowData_lng']].values)).kilometers\n",
    "            interval= int(data.iloc[i][['createdAt']].values[0].strftime('%H')) - int(data.iloc[i+1][['createdAt']].values[0].strftime('%H'))\n",
    "            data_inter.append(interval)\n",
    "            if dista_km <= 8.:\n",
    "                data_dis.append(round(dista_km,3))\n",
    "            if data.iloc[i].dataRowData_gpsVel:\n",
    "                data_vel.append(round(data.iloc[i].dataRowData_gpsVel,3))\n",
    "                data_time.append(round(dista_km/data.iloc[i].dataRowData_gpsVel,3))\n",
    "            else:\n",
    "                data_time.append(round(dista_km/pd.Series(data_vel).mean().round(3),3))# les puede dar error si el array de velocidad esta vacio... toma el valor promedio de las velocidades que hay hasta el momento\n",
    "        except IndexError:\n",
    "            pass\n",
    "    df = list(zip(data_inter,data_dis,data_vel,data_time))\n",
    "    df = pd.DataFrame(df,columns=['interval_time','distancia','velocidad','tiempo']) \n",
    "    return df"
   ]
  },
  {
   "cell_type": "code",
   "execution_count": 115,
   "metadata": {},
   "outputs": [],
   "source": [
    "x=filter_time_day(vaca_1,'noche')"
   ]
  },
  {
   "cell_type": "code",
   "execution_count": 116,
   "metadata": {},
   "outputs": [],
   "source": [
    "x= filter_week_data(x,'2023-02-17')\n",
    "x = x.sort_values('createdAt')"
   ]
  },
  {
   "cell_type": "code",
   "execution_count": 117,
   "metadata": {},
   "outputs": [],
   "source": [
    "c=dataframe_interview_vaca(x)"
   ]
  },
  {
   "cell_type": "code",
   "execution_count": 72,
   "metadata": {},
   "outputs": [
    {
     "data": {
      "text/plain": [
       "9"
      ]
     },
     "execution_count": 72,
     "metadata": {},
     "output_type": "execute_result"
    }
   ],
   "source": [
    "int(x.iloc[0][['createdAt']].values[0].strftime('%H'))"
   ]
  },
  {
   "cell_type": "code",
   "execution_count": 47,
   "metadata": {},
   "outputs": [
    {
     "data": {
      "text/plain": [
       "('2023-02-17', '2023-03-22')"
      ]
     },
     "execution_count": 47,
     "metadata": {},
     "output_type": "execute_result"
    }
   ],
   "source": [
    "time_min_max_data(df)"
   ]
  },
  {
   "cell_type": "code",
   "execution_count": 118,
   "metadata": {},
   "outputs": [],
   "source": [
    "d=list(zip(c[0],c[1],c[2],c[3]))"
   ]
  },
  {
   "cell_type": "code",
   "execution_count": 119,
   "metadata": {},
   "outputs": [
    {
     "data": {
      "text/html": [
       "<div>\n",
       "<style scoped>\n",
       "    .dataframe tbody tr th:only-of-type {\n",
       "        vertical-align: middle;\n",
       "    }\n",
       "\n",
       "    .dataframe tbody tr th {\n",
       "        vertical-align: top;\n",
       "    }\n",
       "\n",
       "    .dataframe thead th {\n",
       "        text-align: right;\n",
       "    }\n",
       "</style>\n",
       "<table border=\"1\" class=\"dataframe\">\n",
       "  <thead>\n",
       "    <tr style=\"text-align: right;\">\n",
       "      <th></th>\n",
       "      <th>interval_time</th>\n",
       "      <th>distancia</th>\n",
       "      <th>velocidad</th>\n",
       "      <th>tiempo</th>\n",
       "    </tr>\n",
       "  </thead>\n",
       "  <tbody>\n",
       "    <tr>\n",
       "      <th>0</th>\n",
       "      <td>0</td>\n",
       "      <td>0.045</td>\n",
       "      <td>1.475</td>\n",
       "      <td>0.030</td>\n",
       "    </tr>\n",
       "    <tr>\n",
       "      <th>1</th>\n",
       "      <td>-3</td>\n",
       "      <td>0.032</td>\n",
       "      <td>0.069</td>\n",
       "      <td>0.459</td>\n",
       "    </tr>\n",
       "    <tr>\n",
       "      <th>2</th>\n",
       "      <td>1</td>\n",
       "      <td>0.095</td>\n",
       "      <td>0.025</td>\n",
       "      <td>3.809</td>\n",
       "    </tr>\n",
       "    <tr>\n",
       "      <th>3</th>\n",
       "      <td>-2</td>\n",
       "      <td>0.082</td>\n",
       "      <td>0.025</td>\n",
       "      <td>3.274</td>\n",
       "    </tr>\n",
       "    <tr>\n",
       "      <th>4</th>\n",
       "      <td>-16</td>\n",
       "      <td>0.065</td>\n",
       "      <td>0.174</td>\n",
       "      <td>0.375</td>\n",
       "    </tr>\n",
       "    <tr>\n",
       "      <th>5</th>\n",
       "      <td>-1</td>\n",
       "      <td>0.042</td>\n",
       "      <td>0.125</td>\n",
       "      <td>0.332</td>\n",
       "    </tr>\n",
       "    <tr>\n",
       "      <th>6</th>\n",
       "      <td>-1</td>\n",
       "      <td>0.064</td>\n",
       "      <td>0.103</td>\n",
       "      <td>0.625</td>\n",
       "    </tr>\n",
       "  </tbody>\n",
       "</table>\n",
       "</div>"
      ],
      "text/plain": [
       "   interval_time  distancia  velocidad  tiempo\n",
       "0              0      0.045      1.475   0.030\n",
       "1             -3      0.032      0.069   0.459\n",
       "2              1      0.095      0.025   3.809\n",
       "3             -2      0.082      0.025   3.274\n",
       "4            -16      0.065      0.174   0.375\n",
       "5             -1      0.042      0.125   0.332\n",
       "6             -1      0.064      0.103   0.625"
      ]
     },
     "execution_count": 119,
     "metadata": {},
     "output_type": "execute_result"
    }
   ],
   "source": [
    "new_fd=pd.DataFrame(d,columns=['interval_time','distancia','velocidad','tiempo'])\n",
    "new_fd\n"
   ]
  },
  {
   "cell_type": "code",
   "execution_count": 20,
   "metadata": {},
   "outputs": [],
   "source": [
    "def graf_muuu(list_vacas,posicion_initial,data):# graficas con folium\n",
    "    colores=[]\n",
    "    aux=0\n",
    "    mp=folium.Map()\n",
    "    for i in list_vacas:\n",
    "        color = random_color()\n",
    "        colores.append(color)\n",
    "        while color in colores:\n",
    "            color =random_color()\n",
    "        if aux == 0:\n",
    "            dta=data_devices(data, i )\n",
    "            dta_gps= gps_data(dta)\n",
    "            mp=folium.Map(location=posicion_initial,zoom_start=15)\n",
    "            grafica_gps(dta_gps,mp,color)\n",
    "            aux = 1\n",
    "        else:\n",
    "            dta=data_devices(on_perimetro, i )\n",
    "            dta_gps= gps_data(dta)\n",
    "            grafica_gps(dta_gps,mp,color)\n",
    "            aux = 1\n",
    "    return mp"
   ]
  },
  {
   "cell_type": "code",
   "execution_count": null,
   "metadata": {},
   "outputs": [],
   "source": [
    "graf_muuu(uuid_devis[:6],[setle_lat,setle_lng],d)"
   ]
  },
  {
   "cell_type": "code",
   "execution_count": 31,
   "metadata": {},
   "outputs": [],
   "source": [
    "import plotly.graph_objects as go\n",
    "\n",
    "mapbox_access_token = 'pk.eyJ1IjoibmVzdG9yMTYwOCIsImEiOiJjbGc5b2J2d3gwOHgwM2xwamd3cGE4cmExIn0.bPWyeRa73WyNqm1nBNJOvQ' \n",
    "\n",
    "def uni_graf(data,color,fig):\n",
    "\n",
    "    fig.add_trace(go.Scattermapbox(\n",
    "        lat=data.dataRowData_lat.values,\n",
    "        lon=data.dataRowData_lng.values,\n",
    "        mode='lines+markers',\n",
    "        line=dict(\n",
    "            width=2,\n",
    "            color=color,\n",
    "        ),\n",
    "        marker=go.scattermapbox.Marker(\n",
    "            size=8,\n",
    "            color=color,\n",
    "            symbol='circle'\n",
    "        ),\n",
    "    ))\n",
    "    return fig\n",
    "\n",
    "def grafic_map(data,list_vacas,lat_orig,lng_orig,fig):\n",
    "    colores=[]\n",
    "    for i in list_vacas:\n",
    "        color = random_color()\n",
    "        colores.append(color)\n",
    "        while color in colores:\n",
    "            color =random_color()\n",
    "        dta=data_devices(data, i )\n",
    "        dta_gps= gps_data(dta)\n",
    "        uni_graf(dta_gps,color,fig)\n",
    "        \n",
    "    fig.update_layout(\n",
    "        mapbox=dict(\n",
    "            style='satellite', \n",
    "            accesstoken=mapbox_access_token,\n",
    "            zoom=14, \n",
    "            center=dict(lat=lat_orig,lon=lng_orig),\n",
    "        ),\n",
    "        showlegend=False\n",
    "    )\n",
    "    return fig"
   ]
  },
  {
   "cell_type": "code",
   "execution_count": null,
   "metadata": {},
   "outputs": [],
   "source": [
    "fig = go.Figure()\n",
    "\n",
    "uni_graf(d_p, random_color(),fig)\n",
    "\n",
    "fig.update_layout(\n",
    "    mapbox=dict(\n",
    "        style='satellite', # Estilo de mapa satelital\n",
    "        accesstoken=mapbox_access_token,\n",
    "        zoom=12, # Nivel de zoom inicial del mapa\n",
    "        center=dict(lat=d_p.iloc[0].dataRowData_lat,lon=d_p.iloc[0].dataRowData_lng),\n",
    "    ),\n",
    "    showlegend=False\n",
    ")\n",
    "\n",
    "fig.show()"
   ]
  },
  {
   "cell_type": "code",
   "execution_count": null,
   "metadata": {},
   "outputs": [],
   "source": [
    "\n",
    "fig = go.Figure()\n",
    "\n",
    "# Agregar los puntos al mapa\n",
    "fig.add_trace(go.Scattermapbox(\n",
    "    lat=d_p.dataRowData_lat.values,\n",
    "    lon=d_p.dataRowData_lng.values,\n",
    "    mode='lines+markers',\n",
    "    line=dict(\n",
    "        width=2,\n",
    "        color='blue',\n",
    "    ),\n",
    "    marker=go.scattermapbox.Marker(\n",
    "        size=8,\n",
    "        color='red',\n",
    "        symbol='circle'\n",
    "    ),\n",
    "))\n",
    "\n",
    "# Configurar el estilo del mapa de Mapbox\n",
    "fig.update_layout(\n",
    "    mapbox=dict(\n",
    "        style='satellite', # Estilo de mapa satelital\n",
    "        accesstoken=mapbox_access_token,\n",
    "        zoom=12, # Nivel de zoom inicial del mapa\n",
    "        center=dict(lat=d_p.iloc[0].dataRowData_lat,lon=d_p.iloc[0].dataRowData_lng),\n",
    "    ),\n",
    "    showlegend=False\n",
    ")\n",
    "\n",
    "# Mostrar el mapa\n",
    "fig.show()"
   ]
  },
  {
   "cell_type": "code",
   "execution_count": 119,
   "metadata": {},
   "outputs": [
    {
     "name": "stdout",
     "output_type": "stream",
     "text": [
      "Fecha de inicio de la semana: 2022-08-01\n",
      "Fecha de finalización de la semana: 2022-08-07\n"
     ]
    }
   ],
   "source": [
    "semana = '2022-08-01'  # Semana en formato 'YYYY-MM-DD'\n",
    "fecha_inicio, fecha_fin = obtener_fecha_inicio_fin(semana)\n",
    "print('Fecha de inicio de la semana:', fecha_inicio)\n",
    "print('Fecha de finalización de la semana:', fecha_fin)"
   ]
  }
 ],
 "metadata": {
  "kernelspec": {
   "display_name": "Python 3.10.5 64-bit",
   "language": "python",
   "name": "python3"
  },
  "language_info": {
   "codemirror_mode": {
    "name": "ipython",
    "version": 3
   },
   "file_extension": ".py",
   "mimetype": "text/x-python",
   "name": "python",
   "nbconvert_exporter": "python",
   "pygments_lexer": "ipython3",
   "version": "3.10.5"
  },
  "orig_nbformat": 4,
  "vscode": {
   "interpreter": {
    "hash": "c63d8c7d738c2960218a10995aedf0a7f67a49a231e71037adf0440953cdb45b"
   }
  }
 },
 "nbformat": 4,
 "nbformat_minor": 2
}
