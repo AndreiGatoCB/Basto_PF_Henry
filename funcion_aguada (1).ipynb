{
 "cells": [
  {
   "cell_type": "code",
   "execution_count": null,
   "metadata": {
    "collapsed": true,
    "pycharm": {
     "is_executing": true
    }
   },
   "outputs": [],
   "source": [
    "import pandas as pd\n",
    "from support_codigo\n",
    "\n",
    "def aguada(gps: pd.DataFrame, device: pd.DataFrame, latitude: float, longitude: float, area: float)->pd.DataFrame:\n",
    "    '''\n",
    "    Esta función retorna las coordenadas geográficas de la aguada en el lote dado.\n",
    "    :param gps: Dataframe de gps para obtener la ubicación del potrero.\n",
    "    :param device: Dataframe de gps para obtener los puntos fijos.\n",
    "    :param latitude: Coordenada, latitud del potrero.\n",
    "    :param longitude: Coordenada, longitud del potrero.\n",
    "    :param area: Tamaño del potrero en hectareas.\n",
    "    :return: Coordenadas (latitud y longitud) de la aguada.\n",
    "    '''\n",
    "    # Se encuentra el lote del potrero en el que se va a buscar la aguada.\n",
    "    df_area_perimetro = filter_area_perimetro(gps, latitude, longitude, area)\n",
    "\n",
    "    # Se buscan los puntos fijos en el dataframe de dispositivos.\n",
    "    puntos_fijos = device[device.deviceType=='PUNTO FIJO']\n",
    "\n",
    "    # Se eliminan las filas con dispositivos que no existen en el dataframe de gps.\n",
    "    df_pf = puntos_fijos.drop(puntos_fijos[puntos_fijos['deviceMACAddress'].isin(['PRUEBA', 'MEVBE4FED3B7594'])].index)\n",
    "\n",
    "    # Se unen los datasets por medio de las coincidencias en 'deviceMACAddress' y 'UUID'\n",
    "    df_merged = pd.merge(df_pf, df_area_perimetro, left_on='deviceMACAddress', right_on='UUID')\n",
    "\n",
    "    # Se eliminan las columnas que no son relevantes para esta función.\n",
    "    df_merged = df_merged.drop(\n",
    "        ['dataRowData_mac', 'dataRowData_battery', 'dataRowData_temperature', 'dataRowData_rssi',\n",
    "         'dataRowData_accelerometer', 'deviceAnimalID', 'dataRowData_firmwareVersion',\n",
    "         'dataRowData_voltage', 'dataRowData_charge', 'dataRowData_temperatureSoC', '__v_x', '__v_y',\n",
    "         'deviceType','$addFields_dataRowData_GeoJSONUbication_type', 'deviceFirmwareVersion',\n",
    "         '$addFields_dataRowData_GeoJSONUbication_coordinates','dataRowData_timestamp', 'payload',\n",
    "         'geometry', 'dataRowData_gpsFixed','dataRowData_gpsVel', 'dataRowType'],\n",
    "        axis=1\n",
    "    )\n",
    "\n",
    "    # Se crea una nueva columna con las coordenadas.\n",
    "    df_merged['coordenadas'] = df_merged[\n",
    "        ['dataRowData_lat', 'dataRowData_lng']\n",
    "    ].apply(\n",
    "        lambda x: ','.join(x.astype(str))\n",
    "        , axis=1\n",
    "    )\n",
    "\n",
    "    # Se cuenta cuántas veces está cada valor en el dataframe final.\n",
    "    df_agrupado = df_merged.groupby('coordenadas').agg({'UUID': 'count'}).reset_index()\n",
    "\n",
    "    # Se agrupa por valores únicos en la columna 'UUID' y se crea una lista con las coordenadas.\n",
    "    mask = df_agrupado['UUID'] == df_agrupado.UUID.unique().max()\n",
    "    punto_fijo = df_agrupado.loc[mask, 'coordenadas'].tolist()\n",
    "\n",
    "    # Se encuentra el UUID de las coordenadas del punto fijo.\n",
    "    uuid = df_merged.groupby('coordenadas')['UUID'].count()\n",
    "    max_uuid = uuid.max()\n",
    "    most_common_uuid = df_merged[df_merged.groupby('coordenadas')['UUID'].transform('count') == max_uuid]['UUID'].iloc[0]\n",
    "\n",
    "    # Separar las coordenadas en dos variables lat y lng.\n",
    "    lat, lng = punto_fijo[0].split(',')\n",
    "    lat = float(lat)\n",
    "    lng = float(lng)\n",
    "\n",
    "    # Definir un diccionario con los valores del UUID y las coordenadas.\n",
    "    punto_fijo = {'UUID': [most_common_uuid],\n",
    "                  'lat': [lat],\n",
    "                  'lng': [lng]}\n",
    "\n",
    "    # Convertir a dataframe la lista del punto fijo.\n",
    "    df_punto_fijo = pd.DataFrame(punto_fijo)\n",
    "\n",
    "    return df_punto_fijo"
   ]
  }
 ],
 "metadata": {
  "kernelspec": {
   "display_name": "Python 3",
   "language": "python",
   "name": "python3"
  },
  "language_info": {
   "codemirror_mode": {
    "name": "ipython",
    "version": 2
   },
   "file_extension": ".py",
   "mimetype": "text/x-python",
   "name": "python",
   "nbconvert_exporter": "python",
   "pygments_lexer": "ipython2",
   "version": "2.7.6"
  }
 },
 "nbformat": 4,
 "nbformat_minor": 0
}
