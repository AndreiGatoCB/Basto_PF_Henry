{
 "cells": [
  {
   "attachments": {},
   "cell_type": "markdown",
   "metadata": {},
   "source": [
    "## Modelo Machine Learning"
   ]
  },
  {
   "cell_type": "code",
   "execution_count": null,
   "metadata": {
    "collapsed": true
   },
   "outputs": [],
   "source": [
    "import pandas as pd\n",
    "from sklearn.ensemble import IsolationForest\n",
    "\n",
    "\n",
    "def modelo_ml1(data: pd.DataFrame, uuid_aguada: str)->pd.Dataframe:\n",
    "    '''\n",
    "\n",
    "    :param data: Dataframe para educar el modelo de machine learning.\n",
    "    :param uuid_aguada: UUID de la aguada para eliminarlo del DF antes del modelo de ML\n",
    "    :return: DataFrame de las anomalías filtradas por el modelo de machine learning.\n",
    "    '''\n",
    "    anomaly_inputs = ['distance_to_mean']\n",
    "\n",
    "    #Instanciamos el modelo\n",
    "    model_IF = IsolationForest(contamination=float(0.1), random_state=42)\n",
    "\n",
    "    # Se eliminan las filas con el UUID de las aguadas.\n",
    "    finca_sin_aguada = data.drop(data[data['UUID'] == uuid_aguada].index)\n",
    "\n",
    "    #Entrenamos el modelo\n",
    "    model_IF.fit(finca_sin_aguada[anomaly_inputs])\n",
    "    #Establecemos las predicciones a través de la generación de la columna\n",
    "    finca_sin_aguada['anomaly_scores'] = model_IF.decision_function(finca_sin_aguada[anomaly_inputs])\n",
    "    finca_sin_aguada['anomaly'] = model_IF.predict(finca_sin_aguada[anomaly_inputs])\n",
    "\n",
    "    return finca_sin_aguada  #By frank y Renzo y Chino se dio cuenta de la mascara y Brandon puso el filtro por UUID de la aguada."
   ]
  }
 ],
 "metadata": {
  "kernelspec": {
   "display_name": "Python 3",
   "language": "python",
   "name": "python3"
  },
  "language_info": {
   "codemirror_mode": {
    "name": "ipython",
    "version": 2
   },
   "file_extension": ".py",
   "mimetype": "text/x-python",
   "name": "python",
   "nbconvert_exporter": "python",
   "pygments_lexer": "ipython2",
   "version": "2.7.6"
  }
 },
 "nbformat": 4,
 "nbformat_minor": 0
}
