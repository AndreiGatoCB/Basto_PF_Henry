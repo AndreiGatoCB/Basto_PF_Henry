{
 "cells": [
  {
   "cell_type": "code",
   "execution_count": null,
   "metadata": {},
   "outputs": [],
   "source": [
    "import folium\n",
    "datos_gps =vaca_1[['dataRowData_lat','dataRowData_lng']]\n",
    "\n",
    "mapa = folium.Map(location=datos_gps.iloc[0].values,zoom_start=15,width=\"70%\",height=\"60%\")\n",
    "\n",
    "for i , d in datos_gps.iterrows():\n",
    "  folium.Marker(location=[d['dataRowData_lat'],d['dataRowData_lng']]).add_to(mapa)\n",
    "  \n",
    "\n",
    "folium.PolyLine(locations=datos_gps,color='blue').add_to(mapa)\n"
   ]
  },
  {
   "cell_type": "code",
   "execution_count": null,
   "metadata": {},
   "outputs": [],
   "source": [
    "import folium\n",
    "datos_gps =v_peri[['dataRowData_lat','dataRowData_lng']]\n",
    "\n",
    "mapa1 = folium.Map(location=datos_gps.iloc[0].values,zoom_start=15)\n",
    "\n",
    "for i , d in datos_gps.iterrows():\n",
    "    folium.Marker(location=[d['dataRowData_lat'],d['dataRowData_lng']]).add_to(mapa1)\n",
    "\n",
    "\n",
    "folium.PolyLine(locations=datos_gps,color='blue').add_to(mapa1)"
   ]
  },
  {
   "cell_type": "code",
   "execution_count": null,
   "metadata": {},
   "outputs": [],
   "source": [
    "d_gps =v_peri2[['dataRowData_lat','dataRowData_lng']]\n",
    "folium.Map(location=d_gps.iloc[0].values)\n",
    "\n",
    "for i , d in d_gps.iterrows():\n",
    "    folium.Marker(location=[d['dataRowData_lat'],d['dataRowData_lng']]).add_to(mapa1)\n",
    "folium.PolyLine(locations=d_gps,color='red').add_to(mapa1)\n",
    "mapa1"
   ]
  },
  {
   "cell_type": "code",
   "execution_count": null,
   "metadata": {},
   "outputs": [],
   "source": []
  },
  {
   "cell_type": "code",
   "execution_count": null,
   "metadata": {},
   "outputs": [],
   "source": [
    "data=[]\n",
    "for i in range(0,d_gps.shape[0]):\n",
    "    try:\n",
    "        dista_km= great_circle(tuple(d_gps.iloc[i].values),tuple(d_gps.iloc[i+1].values)).kilometers\n",
    "        data.append(dista_km)\n",
    "    except IndexError:\n",
    "        pass"
   ]
  },
  {
   "cell_type": "code",
   "execution_count": null,
   "metadata": {},
   "outputs": [],
   "source": []
  }
 ],
 "metadata": {
  "kernelspec": {
   "display_name": "Python 3.10.5 64-bit",
   "language": "python",
   "name": "python3"
  },
  "language_info": {
   "name": "python",
   "version": "3.10.5"
  },
  "orig_nbformat": 4,
  "vscode": {
   "interpreter": {
    "hash": "c63d8c7d738c2960218a10995aedf0a7f67a49a231e71037adf0440953cdb45b"
   }
  }
 },
 "nbformat": 4,
 "nbformat_minor": 2
}
