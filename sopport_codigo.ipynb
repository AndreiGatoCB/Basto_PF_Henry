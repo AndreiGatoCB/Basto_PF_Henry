{
 "cells": [
  {
   "cell_type": "code",
   "execution_count": null,
   "metadata": {},
   "outputs": [],
   "source": [
    "import folium\n",
    "datos_gps =vaca_1[['dataRowData_lat','dataRowData_lng']]\n",
    "\n",
    "mapa = folium.Map(location=datos_gps.iloc[0].values,zoom_start=15,width=\"70%\",height=\"60%\")\n",
    "\n",
    "for i , d in datos_gps.iterrows():\n",
    "  folium.Marker(location=[d['dataRowData_lat'],d['dataRowData_lng']]).add_to(mapa)\n",
    "  \n",
    "\n",
    "folium.PolyLine(locations=datos_gps,color='blue').add_to(mapa)\n"
   ]
  },
  {
   "cell_type": "code",
   "execution_count": null,
   "metadata": {},
   "outputs": [],
   "source": [
    "import folium\n",
    "datos_gps =v_peri[['dataRowData_lat','dataRowData_lng']]\n",
    "\n",
    "mapa1 = folium.Map(location=datos_gps.iloc[0].values,zoom_start=15)\n",
    "\n",
    "for i , d in datos_gps.iterrows():\n",
    "    folium.Marker(location=[d['dataRowData_lat'],d['dataRowData_lng']]).add_to(mapa1)\n",
    "\n",
    "\n",
    "folium.PolyLine(locations=datos_gps,color='blue').add_to(mapa1)"
   ]
  },
  {
   "cell_type": "code",
   "execution_count": null,
   "metadata": {},
   "outputs": [],
   "source": [
    "d_gps =v_peri2[['dataRowData_lat','dataRowData_lng']]\n",
    "folium.Map(location=d_gps.iloc[0].values)\n",
    "\n",
    "for i , d in d_gps.iterrows():\n",
    "    folium.Marker(location=[d['dataRowData_lat'],d['dataRowData_lng']]).add_to(mapa1)\n",
    "folium.PolyLine(locations=d_gps,color='red').add_to(mapa1)\n",
    "mapa1"
   ]
  },
  {
   "cell_type": "code",
   "execution_count": null,
   "metadata": {},
   "outputs": [],
   "source": [
    "data=[]\n",
    "for i in range(0,d_gps.shape[0]):\n",
    "    try:\n",
    "        dista_km= great_circle(tuple(d_gps.iloc[i].values),tuple(d_gps.iloc[i+1].values)).kilometers\n",
    "        data.append(dista_km)\n",
    "    except IndexError:\n",
    "        pass"
   ]
  },
  {
   "cell_type": "code",
   "execution_count": null,
   "metadata": {},
   "outputs": [],
   "source": [
    "import plotly.graph_objects as go\n",
    "\n",
    "# Configurar las credenciales de Mapbox\n",
    "mapbox_access_token = 'pk.eyJ1IjoibmVzdG9yMTYwOCIsImEiOiJjbGc5b2J2d3gwOHgwM2xwamd3cGE4cmExIn0.bPWyeRa73WyNqm1nBNJOvQ'  # Reemplazar con tu propio token de Mapbox\n",
    "\n",
    "fig = go.Figure()\n",
    "\n",
    "# Agregar los puntos al mapa\n",
    "fig.add_trace(go.Scattermapbox(\n",
    "    lat=d_p.dataRowData_lat.values,\n",
    "    lon=d_p.dataRowData_lng.values,\n",
    "    mode='lines+markers',\n",
    "    line=dict(\n",
    "        width=2,\n",
    "        color='blue',\n",
    "    ),\n",
    "    marker=go.scattermapbox.Marker(\n",
    "        size=8,\n",
    "        color='red',\n",
    "        symbol='circle'\n",
    "    ),\n",
    "))\n",
    "\n",
    "# Configurar el estilo del mapa de Mapbox\n",
    "fig.update_layout(\n",
    "    mapbox=dict(\n",
    "        style='satellite', # Estilo de mapa satelital\n",
    "        accesstoken=mapbox_access_token,\n",
    "        zoom=12, # Nivel de zoom inicial del mapa\n",
    "        center=dict(lat=d_p.iloc[0].dataRowData_lat,lon=d_p.iloc[0].dataRowData_lng),\n",
    "    ),\n",
    "    showlegend=False\n",
    ")\n",
    "\n",
    "# Mostrar el mapa\n",
    "fig.show()"
   ]
  },
  {
   "cell_type": "code",
   "execution_count": null,
   "metadata": {},
   "outputs": [],
   "source": [
    "import plotly.graph_objects as go\n",
    "\n",
    "fig= go.Figure()\n",
    "fig.add_trace(go.Scattermapbox(\n",
    "    lat=d_p.dataRowData_lat.values,\n",
    "    lon=d_p.dataRowData_lng.values,\n",
    "    mode='markers',\n",
    "    marker=dict(\n",
    "        size=10,\n",
    "        color='red',\n",
    "    ),\n",
    "))\n",
    "\n",
    "fig.update_layout(\n",
    "    mapbox=dict(\n",
    "        style='satellite',#'satellite-streets-v11'\n",
    "        center=dict(lat=d_p.iloc[0].dataRowData_lat,lon=d_p.iloc[0].dataRowData_lng),\n",
    "        zoom=3\n",
    "    )\n",
    ")\n",
    "import plotly.io as pio\n",
    "pio.renderers.default= 'notebook'\n",
    "pio.renderers\n",
    "pio.show(fig)\n"
   ]
  }
 ],
 "metadata": {
  "kernelspec": {
   "display_name": "Python 3.10.5 64-bit",
   "language": "python",
   "name": "python3"
  },
  "language_info": {
   "name": "python",
   "version": "3.10.5"
  },
  "orig_nbformat": 4,
  "vscode": {
   "interpreter": {
    "hash": "c63d8c7d738c2960218a10995aedf0a7f67a49a231e71037adf0440953cdb45b"
   }
  }
 },
 "nbformat": 4,
 "nbformat_minor": 2
}
